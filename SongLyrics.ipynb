{
 "cells": [
  {
   "cell_type": "code",
   "execution_count": null,
   "metadata": {},
   "outputs": [],
   "source": [
    "import requests as rq\n",
    "from bs4 import BeautifulSoup as bs\n",
    "song = input(\"Enter song: \")\n",
    "\n",
    "# Making the parameters for the url\n",
    "url_params = {\"q\": song.lower()}\n",
    "\n",
    "# Making a get request to the azlyric's search ulr + passing the above parameters to it\n",
    "azlyrics_search = rq.get(\"https://search.azlyrics.com/search.php\", params=url_params)\n",
    "soup = bs(azlyrics_search.text, \"lxml\")\n",
    "\n",
    "# Get a list with all the results for the specific search\n",
    "search_results = soup.find_all(\"table\", {\"class\": \"table table-condensed\"})[-1].find_all(\"td\", {\"class\": \"text-left visitedlyr\"})\n",
    "\n",
    "# Take the first result from the search as the url with the lyrics on it\n",
    "lyrics_url = search_results[0].a.get(\"href\")\n",
    "lyrics_page = rq.get(lyrics_url)\n",
    "soup = bs(lyrics_page.text, \"lxml\")\n",
    "\n",
    "# Find the lyrics\n",
    "lyrics = soup.find(\"div\", {\"class\": \"col-xs-12 col-lg-8 text-center\"}).find_all(\"div\")[6].get_text()\n",
    "\n",
    "# Make a list with every line of the lyrics as a element and remove the first 2 because are html notes\n",
    "lines = lyrics.splitlines()[2:]\n",
    "processed_lyrics = \"\\n\".join(lines)\n",
    "print(processed_lyrics)"
   ]
  },
  {
   "cell_type": "code",
   "execution_count": null,
   "metadata": {},
   "outputs": [],
   "source": []
  }
 ],
 "metadata": {
  "kernelspec": {
   "display_name": "Python 3",
   "language": "python",
   "name": "python3"
  },
  "language_info": {
   "codemirror_mode": {
    "name": "ipython",
    "version": 3
   },
   "file_extension": ".py",
   "mimetype": "text/x-python",
   "name": "python",
   "nbconvert_exporter": "python",
   "pygments_lexer": "ipython3",
   "version": "3.7.1"
  }
 },
 "nbformat": 4,
 "nbformat_minor": 2
}
